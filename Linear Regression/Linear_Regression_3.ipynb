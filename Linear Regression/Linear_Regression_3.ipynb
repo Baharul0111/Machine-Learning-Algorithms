{
 "cells": [
  {
   "cell_type": "markdown",
   "metadata": {},
   "source": [
    "# Gradient Descent for Simple Linear Regression\n",
    "\n",
    "In this notebook, we'll implement simple linear regression using the Gradient Descent (GD) algorithm on a dataset of study hours and exam scores.\n",
    "\n",
    "## Dataset\n",
    "\n",
    "Here's the dataset we'll be using:\n",
    "\n",
    "| Hours of Study (x) | Exam Score (y) |\n",
    "|--------------------|----------------|\n",
    "| 1                  | 2              |\n",
    "| 2                  | 4              |\n",
    "| 3                  | 6              |\n",
    "| 4                  | 8              |\n",
    "| 5                  | 10             |\n",
    "| 6                  | 12             |\n",
    "| 7                  | 14             |\n",
    "| 8                  | 15             |\n",
    "| 9                  | 16             |\n",
    "| 10                 | 20             |\n",
    "\n",
    "## Steps\n",
    "\n",
    "1. **Load the dataset**: Start by loading the data into an appropriate data structure.\n",
    "2. **Split the dataset**: Divide the dataset into three parts:\n",
    "   - Training set\n",
    "   - Validation set\n",
    "   - Testing set\n",
    "3. **Implement Gradient Descent Algorithm (GD)**: Use the training set to implement the GD algorithm to find the optimal parameters for our linear regression model.\n",
    "4. **Evaluate the model on the validation set**: After training, evaluate the performance of the model on the validation set and adjust parameters if necessary.\n",
    "5. **Find the final value of the parameters**: After the validation phase, finalize the values of the parameters.\n",
    "6. **Test your model on the testing data**: Evaluate the model's performance on the testing set to see how well it generalizes to new, unseen data.\n",
    "\n",
    "### Validation Phase\n",
    "\n",
    "During the validation phase, observe the performance of the model and make necessary adjustments to the learning rate or the number of iterations for gradient descent if required.\n",
    "\n",
    "### Testing Phase\n",
    "\n",
    "In the testing phase, use the model with the finalized parameters to predict the exam scores based on the hours of study and compare these predictions to the actual scores to assess accuracy.\n",
    "\n",
    "## Conclusion\n",
    "\n",
    "This exercise will help understand the basics of linear regression and the functionality of the gradient descent algorithm in optimizing model parameters.\n"
   ]
  },
  {
   "cell_type": "code",
   "execution_count": 1,
   "metadata": {},
   "outputs": [],
   "source": [
    "dictionary = {'x': [1,2,3,4,5,6,7,8,9,10], 'y': [2,4,6,8,10,12,14,15,16,20]}"
   ]
  },
  {
   "cell_type": "code",
   "execution_count": 2,
   "metadata": {},
   "outputs": [
    {
     "data": {
      "text/html": [
       "<div>\n",
       "<style scoped>\n",
       "    .dataframe tbody tr th:only-of-type {\n",
       "        vertical-align: middle;\n",
       "    }\n",
       "\n",
       "    .dataframe tbody tr th {\n",
       "        vertical-align: top;\n",
       "    }\n",
       "\n",
       "    .dataframe thead th {\n",
       "        text-align: right;\n",
       "    }\n",
       "</style>\n",
       "<table border=\"1\" class=\"dataframe\">\n",
       "  <thead>\n",
       "    <tr style=\"text-align: right;\">\n",
       "      <th></th>\n",
       "      <th>x</th>\n",
       "      <th>y</th>\n",
       "    </tr>\n",
       "  </thead>\n",
       "  <tbody>\n",
       "    <tr>\n",
       "      <th>0</th>\n",
       "      <td>1</td>\n",
       "      <td>2</td>\n",
       "    </tr>\n",
       "    <tr>\n",
       "      <th>1</th>\n",
       "      <td>2</td>\n",
       "      <td>4</td>\n",
       "    </tr>\n",
       "    <tr>\n",
       "      <th>2</th>\n",
       "      <td>3</td>\n",
       "      <td>6</td>\n",
       "    </tr>\n",
       "    <tr>\n",
       "      <th>3</th>\n",
       "      <td>4</td>\n",
       "      <td>8</td>\n",
       "    </tr>\n",
       "    <tr>\n",
       "      <th>4</th>\n",
       "      <td>5</td>\n",
       "      <td>10</td>\n",
       "    </tr>\n",
       "  </tbody>\n",
       "</table>\n",
       "</div>"
      ],
      "text/plain": [
       "   x   y\n",
       "0  1   2\n",
       "1  2   4\n",
       "2  3   6\n",
       "3  4   8\n",
       "4  5  10"
      ]
     },
     "execution_count": 2,
     "metadata": {},
     "output_type": "execute_result"
    }
   ],
   "source": [
    "import pandas as pd\n",
    "df = pd.DataFrame(dictionary)\n",
    "df.head()"
   ]
  },
  {
   "cell_type": "code",
   "execution_count": 3,
   "metadata": {},
   "outputs": [],
   "source": [
    "X_train = df['x'][0:6].tolist()\n",
    "y_train = df['y'][0:6].tolist()\n",
    "X_val = df['x'][6:8].tolist()\n",
    "y_val = df['y'][6:8].tolist()\n",
    "X_test = df['x'][8:10].tolist()\n",
    "y_test = df['y'][8:10].tolist()"
   ]
  },
  {
   "cell_type": "code",
   "execution_count": 4,
   "metadata": {},
   "outputs": [],
   "source": [
    "def gradient_descent(X_train, y_train, alpha, iterations):\n",
    "    beta_0 = 1\n",
    "    beta_1 = 1\n",
    "    m = len(X_train)\n",
    "    prev_mse = float('inf')\n",
    "\n",
    "    for epoch in range(iterations):\n",
    "        grad_beta_0 = 0\n",
    "        grad_beta_1 = 0\n",
    "        mse = 0\n",
    "\n",
    "        for i in range(m):\n",
    "            y_pred = beta_0 + beta_1 * X_train[i]\n",
    "            error = y_train[i] - y_pred\n",
    "            mse += (1 / (2 * m)) * (error ** 2)\n",
    "            grad_beta_0 += -(1 / m) * error\n",
    "            grad_beta_1 += -(1 / m) * error * X_train[i]\n",
    "\n",
    "        beta_0 -= alpha * grad_beta_0\n",
    "        beta_1 -= alpha * grad_beta_1\n",
    "\n",
    "        if abs(prev_mse - mse) < 0.01:\n",
    "            break\n",
    "        prev_mse = mse\n",
    "\n",
    "    return beta_0, beta_1\n"
   ]
  },
  {
   "cell_type": "code",
   "execution_count": 5,
   "metadata": {},
   "outputs": [],
   "source": [
    "alpha_range = [i * 0.01 for i in range(1, 101)]\n",
    "validation_results = []"
   ]
  },
  {
   "cell_type": "code",
   "execution_count": 6,
   "metadata": {},
   "outputs": [],
   "source": [
    "for alpha in alpha_range:\n",
    "    beta_0, beta_1 = gradient_descent(X_train, y_train, alpha, 100)\n",
    "    y_val_pred = []\n",
    "    for i in range(len(X_val)):\n",
    "        pred = beta_0 + beta_1 * X_val[i]\n",
    "        y_val_pred.append(pred)\n",
    "    \n",
    "    val_mse = 0\n",
    "    count = 0\n",
    "    for i in range(len(y_val)):\n",
    "        error = y_val[i] - y_val_pred[i]\n",
    "        val_mse += error ** 2\n",
    "        count += 1\n",
    "    val_mse /= count\n",
    "    \n",
    "    validation_results.append((val_mse, alpha, beta_0, beta_1))\n",
    "\n",
    "best_val_mse, best_alpha, best_beta_0, best_beta_1 = min(validation_results)\n",
    "\n"
   ]
  },
  {
   "cell_type": "code",
   "execution_count": 7,
   "metadata": {},
   "outputs": [],
   "source": [
    "X_train_val = X_train + X_val\n",
    "y_train_val = y_train + y_val\n",
    "final_beta_0, final_beta_1 = gradient_descent(X_train_val, y_train_val, best_alpha, 100)"
   ]
  },
  {
   "cell_type": "code",
   "execution_count": 8,
   "metadata": {},
   "outputs": [
    {
     "name": "stdout",
     "output_type": "stream",
     "text": [
      "Best Validation MSE: 0.16449220612423854\n",
      "Final Parameters: beta_0 = -7.022613067965027e+26, beta_1 = -3.9483289163636893e+27, alpha = 0.11\n",
      "Testing MSE: 1.464007346285242e+57\n"
     ]
    }
   ],
   "source": [
    "y_test_pred = []\n",
    "for i in range(len(X_test)):\n",
    "    pred = final_beta_0 + final_beta_1 * X_test[i]\n",
    "    y_test_pred.append(pred)\n",
    "\n",
    "test_mse = 0\n",
    "count = 0\n",
    "for i in range(len(y_test)):\n",
    "    error = y_test[i] - y_test_pred[i]\n",
    "    test_mse += error ** 2\n",
    "    count += 1\n",
    "test_mse /= count\n",
    "\n",
    "print(f\"Best Validation MSE: {best_val_mse}\")\n",
    "print(f\"Final Parameters: beta_0 = {final_beta_0}, beta_1 = {final_beta_1}, alpha = {best_alpha}\")\n",
    "print(f\"Testing MSE: {test_mse}\")"
   ]
  }
 ],
 "metadata": {
  "kernelspec": {
   "display_name": "Python 3",
   "language": "python",
   "name": "python3"
  },
  "language_info": {
   "codemirror_mode": {
    "name": "ipython",
    "version": 3
   },
   "file_extension": ".py",
   "mimetype": "text/x-python",
   "name": "python",
   "nbconvert_exporter": "python",
   "pygments_lexer": "ipython3",
   "version": "3.12.1"
  }
 },
 "nbformat": 4,
 "nbformat_minor": 2
}
